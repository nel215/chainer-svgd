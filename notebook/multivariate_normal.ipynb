{
 "cells": [
  {
   "cell_type": "code",
   "execution_count": 1,
   "metadata": {},
   "outputs": [],
   "source": [
    "%load_ext autoreload\n",
    "%autoreload 2\n",
    "%matplotlib inline\n",
    "import sys\n",
    "sys.path.append('../')"
   ]
  },
  {
   "cell_type": "code",
   "execution_count": 2,
   "metadata": {},
   "outputs": [],
   "source": [
    "import numpy as np\n",
    "import seaborn as sns\n",
    "from chainer.iterators import SerialIterator\n",
    "from chainer.optimizers import AdaGrad\n",
    "from chainer.training.trainer import Trainer\n",
    "from chainer.training.updater import StandardUpdater\n",
    "from chainer.training.extensions import LogReport, PrintReport"
   ]
  },
  {
   "cell_type": "code",
   "execution_count": 3,
   "metadata": {
    "scrolled": true
   },
   "outputs": [
    {
     "name": "stdout",
     "output_type": "stream",
     "text": [
      "epoch       main/loss   main/nlogp\n",
      "\u001b[J10          79.1994     5.05876     \n",
      "\u001b[J20          60.73       3.69486     \n",
      "\u001b[J30          53.7222     3.2355      \n",
      "\u001b[J40          51.1214     3.06079     \n",
      "\u001b[J50          49.5341     2.98931     \n",
      "\u001b[J60          49.4553     2.95696     \n",
      "\u001b[J70          49.2385     2.94191     \n",
      "\u001b[J80          49.1635     2.9347      \n",
      "\u001b[J90          49.0722     2.93108     \n",
      "\u001b[J100         49.0511     2.92945     \n",
      "\u001b[J110         49.027      2.9288      \n",
      "\u001b[J120         49.0705     2.92871     \n",
      "\u001b[J130         49.1767     2.92856     \n",
      "\u001b[J140         49.1728     2.92872     \n",
      "\u001b[J150         49.2423     2.92881     \n",
      "\u001b[J160         49.1947     2.92903     \n",
      "\u001b[J170         49.1104     2.9294      \n",
      "\u001b[J180         49.0943     2.92975     \n",
      "\u001b[J190         48.9891     2.93012     \n",
      "\u001b[J200         48.9146     2.93056     \n",
      "\u001b[J210         48.9051     2.93088     \n",
      "\u001b[J220         48.9982     2.93101     \n",
      "\u001b[J230         49.0171     2.93103     \n",
      "\u001b[J240         48.9427     2.9313      \n",
      "\u001b[J250         48.8824     2.93163     \n",
      "\u001b[J260         48.8924     2.93184     \n",
      "\u001b[J270         48.8962     2.93204     \n",
      "\u001b[J280         48.9269     2.93214     \n",
      "\u001b[J290         48.978      2.93216     \n",
      "\u001b[J300         48.9928     2.93224     \n",
      "\u001b[J310         49.0177     2.93237     \n",
      "\u001b[J320         49.0749     2.93238     \n",
      "\u001b[J330         49.0576     2.93249     \n",
      "\u001b[J340         49.0421     2.9326      \n",
      "\u001b[J350         49.0118     2.93284     \n",
      "\u001b[J360         48.9745     2.93307     \n",
      "\u001b[J370         48.9874     2.93324     \n",
      "\u001b[J380         48.9486     2.93346     \n",
      "\u001b[J390         48.9969     2.93354     \n",
      "\u001b[J400         48.9794     2.93366     \n",
      "\u001b[J410         48.9176     2.93394     \n",
      "\u001b[J420         48.9976     2.934       \n",
      "\u001b[J430         48.8434     2.93429     \n",
      "\u001b[J440         48.8185     2.9346      \n",
      "\u001b[J450         48.8375     2.93478     \n",
      "\u001b[J460         48.7886     2.93497     \n",
      "\u001b[J470         48.6823     2.93531     \n",
      "\u001b[J480         48.6261     2.93564     \n",
      "\u001b[J490         48.6557     2.93584     \n",
      "\u001b[J500         48.6294     2.936       \n",
      "\u001b[J510         48.6066     2.93621     \n",
      "\u001b[J520         48.6867     2.93624     \n",
      "\u001b[J530         48.6659     2.93632     \n",
      "\u001b[J540         48.6714     2.93643     \n",
      "\u001b[J550         48.675      2.9365      \n",
      "\u001b[J560         48.7307     2.93655     \n",
      "\u001b[J570         48.6858     2.93663     \n",
      "\u001b[J580         48.6562     2.93686     \n",
      "\u001b[J590         48.6821     2.93698     \n",
      "\u001b[J600         48.6679     2.93706     \n",
      "\u001b[J610         48.6016     2.93729     \n",
      "\u001b[J620         48.6116     2.93745     \n",
      "\u001b[J630         48.629      2.93751     \n",
      "\u001b[J640         48.5221     2.93778     \n",
      "\u001b[J650         48.546      2.93796     \n",
      "\u001b[J660         48.5696     2.93799     \n",
      "\u001b[J670         48.5516     2.9381      \n",
      "\u001b[J680         48.5455     2.9382      \n",
      "\u001b[J690         48.5662     2.93828     \n",
      "\u001b[J700         48.6155     2.93827     \n",
      "\u001b[J710         48.6276     2.93827     \n",
      "\u001b[J720         48.6379     2.9383      \n",
      "\u001b[J730         48.6486     2.93833     \n",
      "\u001b[J740         48.6548     2.93837     \n",
      "\u001b[J750         48.698      2.93835     \n",
      "\u001b[J760         48.6768     2.93843     \n",
      "\u001b[J770         48.7009     2.93846     \n",
      "\u001b[J780         48.6847     2.93851     \n",
      "\u001b[J790         48.6597     2.93862     \n",
      "\u001b[J800         48.6617     2.9387      \n",
      "\u001b[J810         48.6828     2.93874     \n",
      "\u001b[J820         48.6775     2.93877     \n",
      "\u001b[J830         48.6958     2.93879     \n",
      "\u001b[J840         48.6833     2.93883     \n",
      "\u001b[J850         48.675      2.93892     \n",
      "\u001b[J860         48.6851     2.93894     \n",
      "\u001b[J870         48.7014     2.93896     \n",
      "\u001b[J880         48.6915     2.93899     \n",
      "\u001b[J890         48.7074     2.939       \n",
      "\u001b[J900         48.7221     2.939       \n",
      "\u001b[J910         48.7374     2.93899     \n",
      "\u001b[J920         48.7524     2.93898     \n",
      "\u001b[J930         48.7399     2.939       \n",
      "\u001b[J940         48.7212     2.93907     \n",
      "\u001b[J950         48.7216     2.93912     \n",
      "\u001b[J960         48.7234     2.93915     \n",
      "\u001b[J970         48.7452     2.93915     \n",
      "\u001b[J980         48.7602     2.93912     \n",
      "\u001b[J990         48.748      2.93914     \n",
      "\u001b[J1000        48.7157     2.93921     \n"
     ]
    }
   ],
   "source": [
    "from multivariate_normal import MVN\n",
    "\n",
    "class NullUpdater(StandardUpdater):\n",
    "\n",
    "    def update_core(self):\n",
    "        self._iterators['main'].next()\n",
    "        optimizer = self._optimizers['main']\n",
    "        loss_func = self.loss_func or optimizer.target\n",
    "\n",
    "        optimizer.update(loss_func)\n",
    "\n",
    "\n",
    "mu = np.array([1.0, 4.0])\n",
    "sigma = np.array([1.5, 1.0])\n",
    "x0 = np.random.randn(100, 2)\n",
    "model = MVN(mu, sigma, x0)\n",
    "\n",
    "optimizer = AdaGrad(0.5)\n",
    "optimizer.setup(model)\n",
    "gpu = -1\n",
    "updater = NullUpdater(SerialIterator([0], 1), optimizer, device=gpu)\n",
    "\n",
    "n_epoch = 1000\n",
    "trainer = Trainer(updater, (n_epoch, 'epoch'))\n",
    "trainer.extend(LogReport(), trigger=(10, 'epoch'))\n",
    "trainer.extend(PrintReport(['epoch', 'main/loss', 'main/nlogp']))\n",
    "trainer.run()"
   ]
  },
  {
   "cell_type": "code",
   "execution_count": 4,
   "metadata": {},
   "outputs": [
    {
     "data": {
      "text/plain": [
       "<seaborn.axisgrid.JointGrid at 0x7efd9dda7908>"
      ]
     },
     "execution_count": 4,
     "metadata": {},
     "output_type": "execute_result"
    },
    {
     "data": {
      "image/png": "[encoded data removed]",
      "text/plain": [
       "<Figure size 432x432 with 3 Axes>"
      ]
     },
     "metadata": {},
     "output_type": "display_data"
    }
   ],
   "source": [
    "sns.jointplot(model.theta.data[:, 0], model.theta.data[:, 1], kind='kde', stat_func=None)"
   ]
  }
 ],
 "metadata": {
  "kernelspec": {
   "display_name": "Python 3",
   "language": "python",
   "name": "python3"
  },
  "language_info": {
   "codemirror_mode": {
    "name": "ipython",
    "version": 3
   },
   "file_extension": ".py",
   "mimetype": "text/x-python",
   "name": "python",
   "nbconvert_exporter": "python",
   "pygments_lexer": "ipython3",
   "version": "3.6.1"
  }
 },
 "nbformat": 4,
 "nbformat_minor": 2
}
